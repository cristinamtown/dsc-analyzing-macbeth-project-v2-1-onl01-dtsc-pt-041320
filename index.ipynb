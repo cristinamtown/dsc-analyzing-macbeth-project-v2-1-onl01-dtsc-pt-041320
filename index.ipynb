{
 "cells": [
  {
   "cell_type": "markdown",
   "metadata": {},
   "source": [
    "# Project: Analyzing Macbeth\n",
    "\n",
    "## Introduction\n",
    "Now we're going to do some rudimentary analysis of Shakespeare's classic play: Macbeth! You will get practice working with lists and dictionaries, conditionals, visualizing data, and thinking analytically about data.\n",
    "\n",
    "## Objectives\n",
    "You will be able to:\n",
    "* Apply string methods to make changes to a string\n",
    "* Use a `for` loop to iterate over a collection\n",
    "* Assign values in a dictionary\n",
    "\n",
    "## Getting the Data\n",
    "Here we start by importing a Python package called `requests`. We'll use it to pull the transcript of Macbeth from the [Project Gutenberg](https://www.gutenberg.org/) website. We'll also preview a few details about what is now stored in the variable `macbeth`. As you can see, it's a string with 120,253 characters - the first 500 of which are printed below. "
   ]
  },
  {
   "cell_type": "code",
   "execution_count": 1,
   "metadata": {},
   "outputs": [
    {
     "name": "stdout",
     "output_type": "stream",
     "text": [
      "<class 'str'>\n",
      "120253\n",
      "﻿\r\n",
      "\r\n",
      "***The Project Gutenberg's Etext of Shakespeare's First Folio***\r\n",
      "********************The Tragedie of Macbeth*********************\r\n",
      "\r\n",
      "\r\n",
      "\r\n",
      "*******************************************************************\r\n",
      "THIS EBOOK WAS ONE OF PROJECT GUTENBERG'S EARLY FILES PRODUCED AT A\r\n",
      "TIME WHEN PROOFING METHODS AND TOOLS WERE NOT WELL DEVELOPED. THERE\r\n",
      "IS AN IMPROVED EDITION OF THIS TITLE WHICH MAY BE VIEWED AS EBOOK\r\n",
      "(#1533) at https://www.gutenberg.org/ebooks/1533\r\n",
      "*********************************\n"
     ]
    }
   ],
   "source": [
    "import requests\n",
    "macbeth = requests.get('http://www.gutenberg.org/cache/epub/2264/pg2264.txt').text\n",
    "\n",
    "print(type(macbeth))\n",
    "print(len(macbeth))\n",
    "print(macbeth[:500])"
   ]
  },
  {
   "cell_type": "markdown",
   "metadata": {},
   "source": [
    "## Your Task\n",
    "\n",
    "Your task is to create a bar graph of the 25 most common words in Shakespeare's Macbeth.  \n",
    "\n",
    "\n",
    "A common Python programming pattern to count objects, produce histograms, or update statistics is to make calls to a dictionary as you iterate through a list. For example, given a list of words, you can create a dictionary to store counts and then iterate through the list of words, checking how many times each word has appeared using your dictionary, and updating the dictionary count now that you've seen that word again. The `.get()` dictionary method is very useful in doing this. Read the docstring for the `.get()` method and use it along with the pseudocode below to create a bar graph of the 25 most common words from the transcript of Macbeth which has been loaded into the variable 'macbeth'. Be sure to include a title and appropriate labels for your graph.\n",
    "\n",
    "To get the 25 *most common* words, you will have to sort your counts. If you are not super sure how to do this, checkout out the [Sorting HOW TO](https://docs.python.org/3/howto/sorting.html) Python documentation. Part of being a data scientist is figuring out how to do tasks that you may not have done before. Remember, in these situations, Google is your friend!"
   ]
  },
  {
   "cell_type": "code",
   "execution_count": 2,
   "metadata": {},
   "outputs": [
    {
     "data": {
      "image/png": "[encoded data removed]",
      "text/plain": [
       "<Figure size 864x576 with 1 Axes>"
      ]
     },
     "metadata": {
      "needs_background": "light"
     },
     "output_type": "display_data"
    }
   ],
   "source": [
    "import numpy as np\n",
    "import matplotlib.pyplot as plt\n",
    "%matplotlib inline\n",
    "\n",
    "# Your code here\n",
    "# Pseudo-code outline\n",
    "\n",
    "# Split the transcript into words\n",
    "\n",
    "macbeth_lower = macbeth.lower() # lower case so The and the are counted as same\n",
    "\n",
    "# print (macbeth_lower[:500])\n",
    "\n",
    "# remove punctuation marks: 6 more 'the' when removed\n",
    "punctuations = '''!()-[]{};:'\"\\,<>./?@#$%^&*_~'''\n",
    "for p in macbeth_lower: \n",
    "    if p in punctuations:\n",
    "        macbeth_lower = macbeth_lower.replace(p, \"\") \n",
    "        \n",
    "# print (macbeth_lower[:500])\n",
    "\n",
    "word_list = macbeth_lower.split() \n",
    "\n",
    "# print (word_list[:100]) # quick check if words split into a list\n",
    "\n",
    "\n",
    "# Create a dictionary\n",
    "\n",
    "word_count = {}\n",
    "\n",
    "# Iterate through the text of Macbeth\n",
    "\n",
    "for word in word_list:\n",
    "    word_count[word] = word_count.get(word, 0) + 1 # Update word counts\n",
    "    \n",
    "# print (len(word_list))\n",
    "# print(len(word_count)) # check that word_count < words_list\n",
    "# print (word_count['the'])\n",
    "    \n",
    "# Sort words by counts in descending order\n",
    "\n",
    "word_count_sorted = sorted(list(word_count.items()), key=lambda x: x[1], reverse=True)\n",
    "\n",
    "# print (word_count_sorted[:10])\n",
    "\n",
    "top_25_words = word_count_sorted[:25]\n",
    "\n",
    "# print (top_25_words) # check top_25 is good \n",
    "\n",
    "# Create Bar Graph\n",
    "y = [ys[1] for ys in top_25_words]\n",
    "top_25_words = [xs[0] for xs in top_25_words]\n",
    "\n",
    "x = np.arange(len(y))\n",
    "\n",
    "# Include descriptive titles and labels\n",
    "\n",
    "plt.figure(figsize = (12,8))\n",
    "\n",
    "# Plot vertical bars of fixed width by passing x and y values to .bar() function \n",
    "plt.bar(x, y)\n",
    "\n",
    "plt.xlabel('Word')\n",
    "plt.ylabel('Number of Times Used')\n",
    "plt.xticks(x, top_25_words, rotation=90)\n",
    "\n",
    "# Give a title to the bar graph\n",
    "plt.title('Top 25 Used Words in \\'MacBeth\\'')\n",
    "\n",
    "\n",
    "# Output the final plot\n",
    "plt.show()"
   ]
  },
  {
   "cell_type": "markdown",
   "metadata": {},
   "source": [
    "## Level Up (Optional)\n",
    "This project should take you about an hour and a half to complete. If you're done much more quickly than that and are not behind in the course, feel free to deepen your knowledge by completing any or all of the following tasks until you run out of time:\n",
    "* Create a list of top characters by mentions of their names \n",
    "* Split the text by which character is talking\n",
    "* Create subgraphs of the most common words by character\n",
    "* Reduce the string to the text of the play itself. (Remove any initial notes, forward, introduction, appendix, etc.)\n",
    "* Come up with some other fun analyses of the text!\n",
    "\n",
    "## Summary\n",
    "Congratulations! You've got some extra practice combining various data types into useful programming patterns and done an initial analysis of a classic text!"
   ]
  },
  {
   "cell_type": "code",
   "execution_count": 3,
   "metadata": {},
   "outputs": [],
   "source": [
    "# Split the text by which character is talking\n",
    "# Create subgraph of the most common words by character\n",
    "# Create a list of top Character by mentions of their names"
   ]
  },
  {
   "cell_type": "code",
   "execution_count": 4,
   "metadata": {},
   "outputs": [
    {
     "name": "stdout",
     "output_type": "stream",
     "text": [
      "1\n",
      "<class 'str'>\n",
      "\r\n",
      "\r\n",
      "The Tragedie of Macbeth\r\n",
      "\r\n",
      "Actus Primus. Scoena Prima.\r\n",
      "\r\n",
      "Thunder and Lightning. Enter three Witches.\r\n",
      "\r\n",
      "  1. When shall we three meet againe?\r\n",
      "In Thunder, Lightning, or in Raine?\r\n",
      "  2. When the Hurley-burley's done,\r\n",
      "When the Battaile's lost, and wonne\r\n",
      "\r\n",
      "   3. That will be ere the set of Sunne\r\n",
      "\r\n",
      "   1. Where the place?\r\n",
      "  2. Vpon the Heath\r\n",
      "\r\n",
      "   3. There to meet with Macbeth\r\n",
      "\r\n",
      "   1. I come, Gray-Malkin\r\n",
      "\r\n",
      "   All. Padock calls anon: faire is foule, and foule is faire,\r\n",
      "Houer through the fogge and filthie ayre.\r\n",
      "\r\n",
      "Exeunt.\r\n",
      "\r\n",
      "\r\n",
      "Scena Secunda.\r\n",
      "\r\n",
      "Alarum within. Enter King, Malcome, Donalbaine, Lenox, with\r\n",
      "attendants, meeting a bleeding Captaine.\r\n",
      "\r\n",
      "  King. What bloody man is that? he can\n"
     ]
    }
   ],
   "source": [
    "# Reduce the string to the text of the play itself\n",
    "print (word_count['david']) # check that david only appears right before the start of the play\n",
    "\n",
    "just_macbeth = macbeth.split('David Reed') # split the list at reed\n",
    "\n",
    "just_macbeth = just_macbeth[1] \n",
    "\n",
    "print(type(just_macbeth)) # check that just_macbeth is a string\n",
    "print (just_macbeth[:700]) # print the first 700 characters to be sure it removed all but play"
   ]
  },
  {
   "cell_type": "code",
   "execution_count": 16,
   "metadata": {},
   "outputs": [],
   "source": [
    "# Split the text by which character is talking\n"
   ]
  },
  {
   "cell_type": "code",
   "execution_count": 6,
   "metadata": {},
   "outputs": [
    {
     "data": {
      "text/plain": [
       "['  1. When shall we three meet againe?',\n",
       " \"  2. When the Hurley-burley's done,\",\n",
       " '   3. That will be ere the set of Sunne',\n",
       " '   1. Where the place?',\n",
       " '  2. Vpon the Heath',\n",
       " '   3. There to meet with Macbeth',\n",
       " '   1. I come, Gray-Malkin',\n",
       " '   All. Padock calls anon: faire is foule, and foule is faire,',\n",
       " '  King. What bloody man is that? he can report,',\n",
       " '   Mal. This is the Serieant,',\n",
       " '   Cap. Doubtfull it stood,',\n",
       " '   King. O valiant Cousin, worthy Gentleman',\n",
       " \"   Cap. As whence the Sunne 'gins his reflection,\",\n",
       " \"   King. Dismay'd not this our Captaines, Macbeth and\",\n",
       " '  Cap. Yes, as Sparrowes, Eagles;',\n",
       " '   King. So well thy words become thee, as thy wounds,',\n",
       " '  Mal. The worthy Thane of Rosse',\n",
       " '   Lenox. What a haste lookes through his eyes?',\n",
       " '   Rosse. God saue the King',\n",
       " \"   King. Whence cam'st thou, worthy Thane?\"]"
      ]
     },
     "execution_count": 6,
     "metadata": {},
     "output_type": "execute_result"
    }
   ],
   "source": [
    "# Split the text by which character is talking and removes lines that do not \n",
    "# start with a space so we just have the start of each line where the char is named\n",
    "\n",
    "just_macbeth_no_empty = [x for x in just_macbeth.split(\"\\r\\n\") if x is not '' and x[0] is \" \" ]\n",
    "just_macbeth_no_empty[:20]\n"
   ]
  },
  {
   "cell_type": "code",
   "execution_count": 17,
   "metadata": {},
   "outputs": [
    {
     "name": "stdout",
     "output_type": "stream",
     "text": [
      "Character dictionary: \n",
      " {'1': 31, '2': 19, '3': 19, 'All': 13, 'King': 18, 'Mal': 25, 'Cap': 3, 'Lenox': 16, 'Rosse': 36, 'Macb': 137, 'Banquo': 2, 'Mac': 10, 'Banq': 24, 'Ang': 4, 'Lady': 35, 'Mess': 2, 'La': 21, 'Fleance': 2, 'Porter': 1, 'Macd': 58, 'Port': 3, 'Ban': 7, 'Donal': 2, 'Malc': 15, 'Don': 1, 'Old': 4, 'Ross': 2, 'Seruant': 3, 'Murth': 3, '1.Murth': 4, '2.Murth': 2, 'Fleans': 1, 'Lords': 3, 'Mur': 7, 'Len': 5, 'Hec': 2, 'Lord': 3, 'Appar': 1, 'Wife': 19, 'Son': 14, 'Mes': 4, 'Doct': 20, 'Ro': 1, 'Gent': 11, 'Lad': 3, 'Ment': 5, 'Cath': 3, 'Ser': 3, 'Sey': 13, 'Seyt': 1, 'Seyw': 1, 'Sold': 1, 'Syw': 1, 'Y.Sey': 4}\n",
      "\n",
      "Top 20 Characters by number of line:\n",
      "[('Macb', 137), ('Macd', 58), ('Rosse', 36), ('Lady', 35), ('1', 31), ('Mal', 25), ('Banq', 24), ('La', 21), ('Doct', 20), ('2', 19), ('3', 19), ('Wife', 19), ('King', 18), ('Lenox', 16), ('Malc', 15), ('Son', 14), ('All', 13), ('Sey', 13), ('Gent', 11), ('Mac', 10)]\n"
     ]
    }
   ],
   "source": [
    "# How many lines each character has\n",
    "char_dict = {}\n",
    "\n",
    "# Create a dictionary of characters and how many lines they have by removing the blank spaces \n",
    "# in front of each character with .strip() then spliting at the space after the character name\n",
    "# the if statement removes the \".\" after the character b/c the text sometimes omits it especially with the witches\n",
    "for line in just_macbeth_no_empty:\n",
    "    character = line.strip().split(\" \")[0]\n",
    "    if character[-1] == \".\": \n",
    "        character = character[0:-1]\n",
    "    char_dict[character] = char_dict.get(character, 0) + 1\n",
    "print(\"Character dictionary: \\n\", char_dict)  \n",
    "\n",
    "# Sort by number of lines\n",
    "characters_sort = sorted(list(char_dict.items()), key=lambda x: x[1], reverse=True)\n",
    "characters_sort\n",
    "\n",
    "# Issues: La and Lady are the same character, Mac and Macbeth, Ban and Banq, and others\n",
    "top_20_char_by_lines = characters_sort[:20] \n",
    "print(\"\\nTop 20 Characters by number of line:\")\n",
    "print(top_20_char_by_lines)"
   ]
  },
  {
   "cell_type": "code",
   "execution_count": 18,
   "metadata": {},
   "outputs": [
    {
     "data": {
      "image/png": "[encoded data removed]",
      "text/plain": [
       "<Figure size 576x576 with 1 Axes>"
      ]
     },
     "metadata": {
      "needs_background": "light"
     },
     "output_type": "display_data"
    }
   ],
   "source": [
    "# Create Bar Graph\n",
    "y_char_line_count = [ycl[1] for ycl in top_20_char_by_lines]\n",
    "top_20_char_by_lines = [xcl[0] for xcl in top_20_char_by_lines]\n",
    "\n",
    "plt.figure(figsize = (8,8))\n",
    "\n",
    "plt.bar(top_20_char_by_lines, y_char_line_count)\n",
    "\n",
    "plt.xlabel('Characters')\n",
    "plt.ylabel('Number of Lines')\n",
    "plt.xticks(top_20_char_by_lines, rotation=90)\n",
    "\n",
    "plt.title('Number of Lines per Top 10 Character in \\'MacBeth\\'')\n",
    "\n",
    "\n",
    "# Output the final plot\n",
    "plt.show()"
   ]
  },
  {
   "cell_type": "code",
   "execution_count": null,
   "metadata": {},
   "outputs": [],
   "source": []
  }
 ],
 "metadata": {
  "kernelspec": {
   "display_name": "Python 3",
   "language": "python",
   "name": "python3"
  },
  "language_info": {
   "codemirror_mode": {
    "name": "ipython",
    "version": 3
   },
   "file_extension": ".py",
   "mimetype": "text/x-python",
   "name": "python",
   "nbconvert_exporter": "python",
   "pygments_lexer": "ipython3",
   "version": "3.6.9"
  },
  "toc": {
   "base_numbering": 1,
   "nav_menu": {},
   "number_sections": true,
   "sideBar": true,
   "skip_h1_title": false,
   "title_cell": "Table of Contents",
   "title_sidebar": "Contents",
   "toc_cell": false,
   "toc_position": {},
   "toc_section_display": true,
   "toc_window_display": false
  },
  "varInspector": {
   "cols": {
    "lenName": 16,
    "lenType": 16,
    "lenVar": 40
   },
   "kernels_config": {
    "python": {
     "delete_cmd_postfix": "",
     "delete_cmd_prefix": "del ",
     "library": "var_list.py",
     "varRefreshCmd": "print(var_dic_list())"
    },
    "r": {
     "delete_cmd_postfix": ") ",
     "delete_cmd_prefix": "rm(",
     "library": "var_list.r",
     "varRefreshCmd": "cat(var_dic_list()) "
    }
   },
   "position": {
    "height": "144.517px",
    "left": "461.667px",
    "right": "20px",
    "top": "7px",
    "width": "350px"
   },
   "types_to_exclude": [
    "module",
    "function",
    "builtin_function_or_method",
    "instance",
    "_Feature"
   ],
   "window_display": false
  }
 },
 "nbformat": 4,
 "nbformat_minor": 2
}
