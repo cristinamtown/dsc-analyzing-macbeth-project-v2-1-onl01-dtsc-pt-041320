{
 "cells": [
  {
   "cell_type": "markdown",
   "metadata": {},
   "source": [
    "# Project: Analyzing Macbeth\n",
    "\n",
    "## Introduction\n",
    "Now we're going to do some rudimentary analysis of Shakespeare's classic play: Macbeth! You will get practice working with lists and dictionaries, conditionals, visualizing data, and thinking analytically about data.\n",
    "\n",
    "## Objectives\n",
    "You will be able to:\n",
    "* Apply string methods to make changes to a string\n",
    "* Use a `for` loop to iterate over a collection\n",
    "* Assign values in a dictionary\n",
    "\n",
    "## Getting the Data\n",
    "Here we start by importing a Python package called `requests`. We'll use it to pull the transcript of Macbeth from the [Project Gutenberg](https://www.gutenberg.org/) website. We'll also preview a few details about what is now stored in the variable `macbeth`. As you can see, it's a string with 120,253 characters - the first 500 of which are printed below. "
   ]
  },
  {
   "cell_type": "code",
   "execution_count": 2,
   "metadata": {},
   "outputs": [
    {
     "name": "stdout",
     "output_type": "stream",
     "text": [
      "<class 'str'>\n",
      "120253\n",
      "﻿\r\n",
      "\r\n",
      "***The Project Gutenberg's Etext of Shakespeare's First Folio***\r\n",
      "********************The Tragedie of Macbeth*********************\r\n",
      "\r\n",
      "\r\n",
      "\r\n",
      "*******************************************************************\r\n",
      "THIS EBOOK WAS ONE OF PROJECT GUTENBERG'S EARLY FILES PRODUCED AT A\r\n",
      "TIME WHEN PROOFING METHODS AND TOOLS WERE NOT WELL DEVELOPED. THERE\r\n",
      "IS AN IMPROVED EDITION OF THIS TITLE WHICH MAY BE VIEWED AS EBOOK\r\n",
      "(#1533) at https://www.gutenberg.org/ebooks/1533\r\n",
      "*********************************\n"
     ]
    }
   ],
   "source": [
    "import requests\n",
    "macbeth = requests.get('http://www.gutenberg.org/cache/epub/2264/pg2264.txt').text\n",
    "\n",
    "print(type(macbeth))\n",
    "print(len(macbeth))\n",
    "print(macbeth[:500])"
   ]
  },
  {
   "cell_type": "markdown",
   "metadata": {},
   "source": [
    "## Your Task\n",
    "\n",
    "Your task is to create a bar graph of the 25 most common words in Shakespeare's Macbeth.  \n",
    "\n",
    "\n",
    "A common Python programming pattern to count objects, produce histograms, or update statistics is to make calls to a dictionary as you iterate through a list. For example, given a list of words, you can create a dictionary to store counts and then iterate through the list of words, checking how many times each word has appeared using your dictionary, and updating the dictionary count now that you've seen that word again. The `.get()` dictionary method is very useful in doing this. Read the docstring for the `.get()` method and use it along with the pseudocode below to create a bar graph of the 25 most common words from the transcript of Macbeth which has been loaded into the variable 'macbeth'. Be sure to include a title and appropriate labels for your graph.\n",
    "\n",
    "To get the 25 *most common* words, you will have to sort your counts. If you are not super sure how to do this, checkout out the [Sorting HOW TO](https://docs.python.org/3/howto/sorting.html) Python documentation. Part of being a data scientist is figuring out how to do tasks that you may not have done before. Remember, in these situations, Google is your friend!"
   ]
  },
  {
   "cell_type": "code",
   "execution_count": 61,
   "metadata": {},
   "outputs": [
    {
     "data": {
      "image/png": "[encoded data removed]",
      "text/plain": [
       "<Figure size 864x576 with 1 Axes>"
      ]
     },
     "metadata": {
      "needs_background": "light"
     },
     "output_type": "display_data"
    }
   ],
   "source": [
    "import numpy as np\n",
    "import matplotlib.pyplot as plt\n",
    "%matplotlib inline\n",
    "\n",
    "# Your code here\n",
    "# Pseudo-code outline\n",
    "\n",
    "# Split the transcript into words\n",
    "\n",
    "macbeth_lower = macbeth.lower() # lower case so The and the are counted as same\n",
    "\n",
    "# print (macbeth_lower[:500])\n",
    "\n",
    "# remove punctuation marks: 6 more 'the' when removed\n",
    "punctuations = '''!()-[]{};:'\"\\,<>./?@#$%^&*_~'''\n",
    "for p in macbeth_lower.lower(): \n",
    "    if p in punctuations:\n",
    "        macbeth_lower = macbeth_lower.replace(p, \"\") \n",
    "        \n",
    "# print (macbeth_lower[:500])\n",
    "\n",
    "word_list = macbeth_lower.split() \n",
    "\n",
    "# print (word_list[:100]) # quick check if words split into a list\n",
    "\n",
    "\n",
    "# Create a dictionary\n",
    "\n",
    "word_count = {}\n",
    "\n",
    "# Iterate through the text of Macbeth\n",
    "\n",
    "for word in word_list:\n",
    "    word_count[word] = word_count.get(word, 0) + 1 # Update word counts\n",
    "    \n",
    "# print (len(words_list))\n",
    "# print(len(word_count)) # check that word_count < words_list\n",
    "# print (word_count['the'])\n",
    "    \n",
    "# Sort words by counts in descending order\n",
    "\n",
    "word_count_sorted = sorted(list(word_count.items()), key=lambda x: x[1], reverse=True)\n",
    "\n",
    "top_25_words = word_count_sorted[:25]\n",
    "\n",
    "# print (top_25_words) # check top_25 is good \n",
    "\n",
    "# Create Bar Graph\n",
    "y = [ys[1] for ys in top_25_words]\n",
    "top_25_words = [xs[0] for xs in top_25_words]\n",
    "\n",
    "x = np.arange(len(y))\n",
    "\n",
    "# Include descriptive titles and labels\n",
    "\n",
    "plt.figure(figsize = (12,8))\n",
    "\n",
    "# Plot vertical bars of fixed width by passing x and y values to .bar() function \n",
    "plt.bar(x, y)\n",
    "\n",
    "plt.xlabel('Word')\n",
    "plt.ylabel('Number of Times Used')\n",
    "plt.xticks(x, top_25_words, rotation=90)\n",
    "\n",
    "# Give a title to the bar graph\n",
    "plt.title('Top 25 Used Words in \\'MacBeth\\'')\n",
    "\n",
    "\n",
    "# Output the final plot\n",
    "plt.show()"
   ]
  },
  {
   "cell_type": "markdown",
   "metadata": {},
   "source": [
    "## Level Up (Optional)\n",
    "This project should take you about an hour and a half to complete. If you're done much more quickly than that and are not behind in the course, feel free to deepen your knowledge by completing any or all of the following tasks until you run out of time:\n",
    "* Create a list of top characters by mentions of their names \n",
    "* Split the text by which character is talking\n",
    "* Create subgraphs of the most common words by character\n",
    "* Reduce the string to the text of the play itself. (Remove any initial notes, forward, introduction, appendix, etc.)\n",
    "* Come up with some other fun analyses of the text!\n",
    "\n",
    "## Summary\n",
    "Congratulations! You've got some extra practice combining various data types into useful programming patterns and done an initial analysis of a classic text!"
   ]
  },
  {
   "cell_type": "code",
   "execution_count": 18,
   "metadata": {},
   "outputs": [
    {
     "name": "stdout",
     "output_type": "stream",
     "text": [
      "1\n",
      "<class 'str'>\n",
      "\r\n",
      "\r\n",
      "The Tragedie of Macbeth\r\n",
      "\r\n",
      "Actus Primus. Scoena Prima.\r\n",
      "\r\n",
      "Thunder and Lightning. Enter three Witches.\r\n",
      "\r\n",
      "  1. When shall we three meet againe?\r\n",
      "In Thunder, Lightning, or in Raine?\r\n",
      "  2. When the Hurley-burley's done,\r\n",
      "When the Battaile's lost, and wonne\r\n",
      "\r\n",
      "   3. That will be ere the set of Sunne\r\n",
      "\r\n",
      "   1. Where the place?\r\n",
      "  2. Vpon the Heath\r\n",
      "\r\n",
      "   3. There to meet with Macbeth\r\n",
      "\r\n",
      "   1. I come, Gray-Malkin\r\n",
      "\r\n",
      "   All. Padock calls anon: faire is foule, and foule is faire,\r\n",
      "Houer through the fogge and filthie ayre.\r\n",
      "\r\n",
      "Exeunt.\r\n",
      "\r\n",
      "\r\n",
      "Scena Secunda.\r\n",
      "\r\n",
      "Alarum within. Enter King, Malcome, Donalbaine, Lenox, with\r\n",
      "attendants, meeting a bleeding Captaine.\r\n",
      "\r\n",
      "  King. What bloody man is that? he can\n"
     ]
    }
   ],
   "source": [
    "# Create a list of top Character by mentions of their names\n",
    "\n",
    "# Split the text by which character is talking\n",
    "\n",
    "# Create subgraph of the most common words by character\n",
    "\n",
    "# Reduce the string to the text of the play itself\n",
    "print (word_count['Reed']) # check that reed only appears right before the start of the play\n",
    "\n",
    "just_macbeth = macbeth.split('Reed') # split the list at reed\n",
    "\n",
    "just_macbeth = just_macbeth[1] # set just_macbeth to be the \n",
    "\n",
    "print(type(just_macbeth)) # check that just_macbeth is a string\n",
    "print (just_macbeth[:700]) # print the first 700 characters to be sure it removed all but play"
   ]
  },
  {
   "cell_type": "code",
   "execution_count": null,
   "metadata": {},
   "outputs": [],
   "source": []
  }
 ],
 "metadata": {
  "kernelspec": {
   "display_name": "Python 3",
   "language": "python",
   "name": "python3"
  },
  "language_info": {
   "codemirror_mode": {
    "name": "ipython",
    "version": 3
   },
   "file_extension": ".py",
   "mimetype": "text/x-python",
   "name": "python",
   "nbconvert_exporter": "python",
   "pygments_lexer": "ipython3",
   "version": "3.6.9"
  }
 },
 "nbformat": 4,
 "nbformat_minor": 2
}
